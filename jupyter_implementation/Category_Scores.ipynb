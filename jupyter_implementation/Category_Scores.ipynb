{
  "cells": [
    {
      "cell_type": "code",
      "source": [
        "from pinecone import Pinecone\n",
        "from pinecone import ServerlessSpec\n",
        "import pandas as pd\n",
        "from google.colab import files\n",
        "import matplotlib.pyplot as plt\n"
      ],
      "metadata": {
        "id": "IpEjB22A57SJ"
      },
      "execution_count": null,
      "outputs": []
    },
    {
      "cell_type": "code",
      "source": [
        "def category_scores(text):\n",
        "    pc = Pinecone(api_key=\"pcsk_2wP34Q_BMcTpsBMdLgVjxq5SrFidKYDnr9Xj2heFtv6iEKdVUnVsyv58XLXFpBT8rk2r2U\")\n",
        "    index_name = \"document--embeddings\"\n",
        "\n",
        "    # Delete and recreate index\n",
        "    pc.delete_index(index_name)\n",
        "    pc.create_index(\n",
        "        name=index_name,\n",
        "        dimension=1024,\n",
        "        metric=\"cosine\",\n",
        "        spec=ServerlessSpec(cloud=\"aws\", region=\"us-east-1\")\n",
        "    )\n",
        "\n",
        "    # Wait until index is ready\n",
        "    while not pc.describe_index(index_name).status['ready']:\n",
        "        time.sleep(1)\n",
        "\n",
        "    index = pc.Index(index_name)\n",
        "\n",
        "    # Insert input text into Pinecone\n",
        "    data = [{\"id\": \"vec1\", \"text\": text}]\n",
        "    embeddings = pc.inference.embed(\n",
        "        model=\"multilingual-e5-large\",\n",
        "        inputs=[text],\n",
        "        parameters={\"input_type\": \"passage\", \"truncate\": \"END\"}\n",
        "    )\n",
        "    vectors = [{\n",
        "        \"id\": \"vec1\",\n",
        "        \"values\": embeddings[0].values,\n",
        "        \"metadata\": {\"text\": text}\n",
        "    }]\n",
        "    index.upsert(vectors=vectors, namespace=\"ns1\")\n",
        "\n",
        "    # Define categories\n",
        "    categories = [\n",
        "        \"atheism\", \"space\", \"pc hardware\", \"windows computer\",\n",
        "        \"for sale\", \"automobiles\", \"motorcycles\", \"baseball\", \"hockey\",\n",
        "        \"crypto\", \"electronics\", \"medicine\", \"Christianity\", \"guns\",\n",
        "        \"middle east\", \"misc politics\", \"misc religion\", \"mac hardware\",\n",
        "        \"graphics\", \"windows misc\"\n",
        "    ]\n",
        "\n",
        "    # Run similarity search with retry logic\n",
        "    scores = {}\n",
        "    for category in categories:\n",
        "        query = f\"Text that discusses {category}\"\n",
        "        embedding = pc.inference.embed(\n",
        "            model=\"multilingual-e5-large\",\n",
        "            inputs=[query],\n",
        "            parameters={\"input_type\": \"query\"}\n",
        "        )\n",
        "\n",
        "        max_retries = 7\n",
        "        retry_delay = 3\n",
        "        attempt = 0\n",
        "        score = 0.0\n",
        "\n",
        "        while attempt < max_retries:\n",
        "            result = index.query(\n",
        "                namespace=\"ns1\",\n",
        "                vector=embedding[0].values,\n",
        "                top_k=3,\n",
        "                include_values=False,\n",
        "                include_metadata=True\n",
        "            )\n",
        "            if result['matches']:\n",
        "                score = result['matches'][0]['score']\n",
        "                break\n",
        "            else:\n",
        "                attempt += 1\n",
        "                time.sleep(retry_delay)\n",
        "\n",
        "        scores[category] = score\n",
        "        time.sleep(10)\n",
        "\n",
        "    # Convert to DataFrame\n",
        "    df_scores = pd.DataFrame([scores])\n",
        "\n",
        "    # Sort the DataFrame by score (descending)\n",
        "    df_sorted = df_scores.iloc[:, :].sort_values(by=0, axis=1, ascending=False)\n",
        "\n",
        "    # Create bar plot\n",
        "    plt.figure(figsize=(16, 6))\n",
        "    plt.bar(df_sorted.columns, df_sorted.iloc[0, :])\n",
        "    plt.ylim(0.7, 0.9)\n",
        "    plt.xlabel(\"Categories\")\n",
        "    plt.ylabel(\"Scores\")\n",
        "    plt.title(\"Sorted Scores\")\n",
        "    plt.xticks(rotation=90)\n",
        "    plt.tight_layout()\n",
        "    plt.show()\n"
      ],
      "metadata": {
        "id": "Ixr0nhEw4U-M"
      },
      "execution_count": 37,
      "outputs": []
    },
    {
      "cell_type": "code",
      "source": [],
      "metadata": {
        "id": "pJQ1AqNdCEat"
      },
      "execution_count": null,
      "outputs": []
    }
  ],
  "metadata": {
    "colab": {
      "provenance": []
    },
    "kernelspec": {
      "display_name": "Python 3 (ipykernel)",
      "language": "python",
      "name": "python3"
    },
    "language_info": {
      "codemirror_mode": {
        "name": "ipython",
        "version": 3
      },
      "file_extension": ".py",
      "mimetype": "text/x-python",
      "name": "python",
      "nbconvert_exporter": "python",
      "pygments_lexer": "ipython3",
      "version": "3.9.12"
    }
  },
  "nbformat": 4,
  "nbformat_minor": 0
}
