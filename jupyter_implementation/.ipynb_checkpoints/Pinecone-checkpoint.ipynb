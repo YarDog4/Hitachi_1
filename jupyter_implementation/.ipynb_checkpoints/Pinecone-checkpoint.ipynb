{
  "cells": [
    {
      "cell_type": "code",
      "execution_count": null,
      "metadata": {
        "id": "LTRvwNV8E9SK",
        "colab": {
          "base_uri": "https://localhost:8080/"
        },
        "outputId": "430f98a8-bb3d-4aa5-8b9d-16a806a3a72e"
      },
      "outputs": [
        {
          "output_type": "stream",
          "name": "stdout",
          "text": [
            "Requirement already satisfied: pandas in /usr/local/lib/python3.11/dist-packages (2.2.2)\n",
            "Requirement already satisfied: numpy>=1.23.2 in /usr/local/lib/python3.11/dist-packages (from pandas) (2.0.2)\n",
            "Requirement already satisfied: python-dateutil>=2.8.2 in /usr/local/lib/python3.11/dist-packages (from pandas) (2.8.2)\n",
            "Requirement already satisfied: pytz>=2020.1 in /usr/local/lib/python3.11/dist-packages (from pandas) (2025.2)\n",
            "Requirement already satisfied: tzdata>=2022.7 in /usr/local/lib/python3.11/dist-packages (from pandas) (2025.2)\n",
            "Requirement already satisfied: six>=1.5 in /usr/local/lib/python3.11/dist-packages (from python-dateutil>=2.8.2->pandas) (1.17.0)\n"
          ]
        }
      ],
      "source": [
        "#!pip install pinecone\n",
        "#!pip install pandas"
      ]
    },
    {
      "cell_type": "code",
      "execution_count": null,
      "metadata": {
        "colab": {
          "base_uri": "https://localhost:8080/"
        },
        "id": "PWgkS-55deNP",
        "outputId": "232ae747-4dae-40c4-9cfd-64db134d1c11"
      },
      "outputs": [
        {
          "output_type": "stream",
          "name": "stdout",
          "text": [
            "Drive already mounted at /content/drive; to attempt to forcibly remount, call drive.mount(\"/content/drive\", force_remount=True).\n"
          ]
        }
      ],
      "source": [
        "#Importing the Pinecone library\n",
        "from pinecone import Pinecone\n",
        "from pinecone import ServerlessSpec\n",
        "from google.colab import drive\n",
        "import pandas as pd\n",
        "import numpy as np\n",
        "drive.mount('/content/drive')\n",
        "import time"
      ]
    },
    {
      "cell_type": "code",
      "execution_count": null,
      "metadata": {
        "id": "Vtkl2DXZLyvd"
      },
      "outputs": [],
      "source": [
        "file_path = \"/content/drive/My Drive/Geography311/Data_for_Hitachi_1_Project.csv\"\n",
        "df = pd.read_csv(file_path)\n",
        "df = df.head(96)\n",
        "df['text'] = df['text'].astype(str)"
      ]
    },
    {
      "cell_type": "code",
      "execution_count": null,
      "metadata": {
        "id": "Vv0Uv8gZdsOv"
      },
      "outputs": [],
      "source": [
        "#Using my API Key to initialize my client connection to Pinecone\n",
        "pc = Pinecone(api_key=\"pcsk_2wP34Q_BMcTpsBMdLgVjxq5SrFidKYDnr9Xj2heFtv6iEKdVUnVsyv58XLXFpBT8rk2r2U\")"
      ]
    },
    {
      "cell_type": "code",
      "execution_count": null,
      "metadata": {
        "colab": {
          "base_uri": "https://localhost:8080/",
          "height": 443
        },
        "id": "Qi7fYAsLeBVL",
        "outputId": "70567928-54a0-44c3-babf-b2494e6bce57"
      },
      "outputs": [
        {
          "output_type": "error",
          "ename": "PineconeApiException",
          "evalue": "(409)\nReason: Conflict\nHTTP response headers: HTTPHeaderDict({'content-type': 'text/plain; charset=utf-8', 'access-control-allow-origin': '*', 'vary': 'origin,access-control-request-method,access-control-request-headers', 'access-control-expose-headers': '*', 'x-pinecone-api-version': '2025-01', 'x-cloud-trace-context': '6a8cebd620f06f9d4dad2d6f17631b45', 'date': 'Mon, 31 Mar 2025 23:00:22 GMT', 'server': 'Google Frontend', 'Content-Length': '85', 'Via': '1.1 google', 'Alt-Svc': 'h3=\":443\"; ma=2592000,h3-29=\":443\"; ma=2592000'})\nHTTP response body: {\"error\":{\"code\":\"ALREADY_EXISTS\",\"message\":\"Resource  already exists\"},\"status\":409}\n",
          "traceback": [
            "\u001b[0;31m---------------------------------------------------------------------------\u001b[0m",
            "\u001b[0;31mPineconeApiException\u001b[0m                      Traceback (most recent call last)",
            "\u001b[0;32m<ipython-input-68-36a9014cdf41>\u001b[0m in \u001b[0;36m<cell line: 0>\u001b[0;34m()\u001b[0m\n\u001b[1;32m      2\u001b[0m \u001b[0;31m#based on the embedding model we will use to create the vector embeddings\u001b[0m\u001b[0;34m\u001b[0m\u001b[0;34m\u001b[0m\u001b[0m\n\u001b[1;32m      3\u001b[0m \u001b[0mindex_name\u001b[0m \u001b[0;34m=\u001b[0m \u001b[0;34m\"document--embeddings\"\u001b[0m\u001b[0;34m\u001b[0m\u001b[0;34m\u001b[0m\u001b[0m\n\u001b[0;32m----> 4\u001b[0;31m pc.create_index(\n\u001b[0m\u001b[1;32m      5\u001b[0m     \u001b[0mname\u001b[0m\u001b[0;34m=\u001b[0m\u001b[0mindex_name\u001b[0m\u001b[0;34m,\u001b[0m\u001b[0;34m\u001b[0m\u001b[0;34m\u001b[0m\u001b[0m\n\u001b[1;32m      6\u001b[0m     \u001b[0;31m#The dimension size may change based on which embedding model we plan to use\u001b[0m\u001b[0;34m\u001b[0m\u001b[0;34m\u001b[0m\u001b[0m\n",
            "\u001b[0;32m/usr/local/lib/python3.11/dist-packages/pinecone/control/pinecone.py\u001b[0m in \u001b[0;36mcreate_index\u001b[0;34m(self, name, spec, dimension, metric, timeout, deletion_protection, vector_type, tags)\u001b[0m\n\u001b[1;32m    141\u001b[0m             \u001b[0mtags\u001b[0m\u001b[0;34m=\u001b[0m\u001b[0mtags\u001b[0m\u001b[0;34m,\u001b[0m\u001b[0;34m\u001b[0m\u001b[0;34m\u001b[0m\u001b[0m\n\u001b[1;32m    142\u001b[0m         )\n\u001b[0;32m--> 143\u001b[0;31m         \u001b[0mresp\u001b[0m \u001b[0;34m=\u001b[0m \u001b[0mself\u001b[0m\u001b[0;34m.\u001b[0m\u001b[0mindex_api\u001b[0m\u001b[0;34m.\u001b[0m\u001b[0mcreate_index\u001b[0m\u001b[0;34m(\u001b[0m\u001b[0mcreate_index_request\u001b[0m\u001b[0;34m=\u001b[0m\u001b[0mreq\u001b[0m\u001b[0;34m)\u001b[0m\u001b[0;34m\u001b[0m\u001b[0;34m\u001b[0m\u001b[0m\n\u001b[0m\u001b[1;32m    144\u001b[0m \u001b[0;34m\u001b[0m\u001b[0m\n\u001b[1;32m    145\u001b[0m         \u001b[0;32mif\u001b[0m \u001b[0mtimeout\u001b[0m \u001b[0;34m==\u001b[0m \u001b[0;34m-\u001b[0m\u001b[0;36m1\u001b[0m\u001b[0;34m:\u001b[0m\u001b[0;34m\u001b[0m\u001b[0;34m\u001b[0m\u001b[0m\n",
            "\u001b[0;32m/usr/local/lib/python3.11/dist-packages/pinecone/openapi_support/endpoint.py\u001b[0m in \u001b[0;36m__call__\u001b[0;34m(self, *args, **kwargs)\u001b[0m\n\u001b[1;32m    100\u001b[0m \u001b[0;34m\u001b[0m\u001b[0m\n\u001b[1;32m    101\u001b[0m         \"\"\"\n\u001b[0;32m--> 102\u001b[0;31m         \u001b[0;32mreturn\u001b[0m \u001b[0mself\u001b[0m\u001b[0;34m.\u001b[0m\u001b[0mcallable\u001b[0m\u001b[0;34m(\u001b[0m\u001b[0mself\u001b[0m\u001b[0;34m,\u001b[0m \u001b[0;34m*\u001b[0m\u001b[0margs\u001b[0m\u001b[0;34m,\u001b[0m \u001b[0;34m**\u001b[0m\u001b[0mkwargs\u001b[0m\u001b[0;34m)\u001b[0m\u001b[0;34m\u001b[0m\u001b[0;34m\u001b[0m\u001b[0m\n\u001b[0m\u001b[1;32m    103\u001b[0m \u001b[0;34m\u001b[0m\u001b[0m\n\u001b[1;32m    104\u001b[0m     \u001b[0;32mdef\u001b[0m \u001b[0mcall_with_http_info\u001b[0m\u001b[0;34m(\u001b[0m\u001b[0mself\u001b[0m\u001b[0;34m,\u001b[0m \u001b[0;34m**\u001b[0m\u001b[0mkwargs\u001b[0m\u001b[0;34m)\u001b[0m\u001b[0;34m:\u001b[0m\u001b[0;34m\u001b[0m\u001b[0;34m\u001b[0m\u001b[0m\n",
            "\u001b[0;32m/usr/local/lib/python3.11/dist-packages/pinecone/core/openapi/db_control/api/manage_indexes_api.py\u001b[0m in \u001b[0;36m__create_index\u001b[0;34m(self, create_index_request, **kwargs)\u001b[0m\n\u001b[1;32m    233\u001b[0m             \u001b[0mkwargs\u001b[0m \u001b[0;34m=\u001b[0m \u001b[0mself\u001b[0m\u001b[0;34m.\u001b[0m\u001b[0m_process_openapi_kwargs\u001b[0m\u001b[0;34m(\u001b[0m\u001b[0mkwargs\u001b[0m\u001b[0;34m)\u001b[0m\u001b[0;34m\u001b[0m\u001b[0;34m\u001b[0m\u001b[0m\n\u001b[1;32m    234\u001b[0m             \u001b[0mkwargs\u001b[0m\u001b[0;34m[\u001b[0m\u001b[0;34m\"create_index_request\"\u001b[0m\u001b[0;34m]\u001b[0m \u001b[0;34m=\u001b[0m \u001b[0mcreate_index_request\u001b[0m\u001b[0;34m\u001b[0m\u001b[0;34m\u001b[0m\u001b[0m\n\u001b[0;32m--> 235\u001b[0;31m             \u001b[0;32mreturn\u001b[0m \u001b[0mself\u001b[0m\u001b[0;34m.\u001b[0m\u001b[0mcall_with_http_info\u001b[0m\u001b[0;34m(\u001b[0m\u001b[0;34m**\u001b[0m\u001b[0mkwargs\u001b[0m\u001b[0;34m)\u001b[0m\u001b[0;34m\u001b[0m\u001b[0;34m\u001b[0m\u001b[0m\n\u001b[0m\u001b[1;32m    236\u001b[0m \u001b[0;34m\u001b[0m\u001b[0m\n\u001b[1;32m    237\u001b[0m         self.create_index = _Endpoint(\n",
            "\u001b[0;32m/usr/local/lib/python3.11/dist-packages/pinecone/openapi_support/endpoint.py\u001b[0m in \u001b[0;36mcall_with_http_info\u001b[0;34m(self, **kwargs)\u001b[0m\n\u001b[1;32m    132\u001b[0m         \u001b[0mHeaderUtil\u001b[0m\u001b[0;34m.\u001b[0m\u001b[0mprepare_headers\u001b[0m\u001b[0;34m(\u001b[0m\u001b[0mheaders_map\u001b[0m\u001b[0;34m=\u001b[0m\u001b[0mself\u001b[0m\u001b[0;34m.\u001b[0m\u001b[0mheaders_map\u001b[0m\u001b[0;34m,\u001b[0m \u001b[0mparams\u001b[0m\u001b[0;34m=\u001b[0m\u001b[0mparams\u001b[0m\u001b[0;34m)\u001b[0m\u001b[0;34m\u001b[0m\u001b[0;34m\u001b[0m\u001b[0m\n\u001b[1;32m    133\u001b[0m \u001b[0;34m\u001b[0m\u001b[0m\n\u001b[0;32m--> 134\u001b[0;31m         return self.api_client.call_api(\n\u001b[0m\u001b[1;32m    135\u001b[0m             \u001b[0mself\u001b[0m\u001b[0;34m.\u001b[0m\u001b[0msettings\u001b[0m\u001b[0;34m[\u001b[0m\u001b[0;34m\"endpoint_path\"\u001b[0m\u001b[0;34m]\u001b[0m\u001b[0;34m,\u001b[0m\u001b[0;34m\u001b[0m\u001b[0;34m\u001b[0m\u001b[0m\n\u001b[1;32m    136\u001b[0m             \u001b[0mself\u001b[0m\u001b[0;34m.\u001b[0m\u001b[0msettings\u001b[0m\u001b[0;34m[\u001b[0m\u001b[0;34m\"http_method\"\u001b[0m\u001b[0;34m]\u001b[0m\u001b[0;34m,\u001b[0m\u001b[0;34m\u001b[0m\u001b[0;34m\u001b[0m\u001b[0m\n",
            "\u001b[0;32m/usr/local/lib/python3.11/dist-packages/pinecone/openapi_support/api_client.py\u001b[0m in \u001b[0;36mcall_api\u001b[0;34m(self, resource_path, method, path_params, query_params, header_params, body, post_params, files, response_type, auth_settings, async_req, async_threadpool_executor, _return_http_data_only, collection_formats, _preload_content, _request_timeout, _host, _check_type)\u001b[0m\n\u001b[1;32m    298\u001b[0m \u001b[0;34m\u001b[0m\u001b[0m\n\u001b[1;32m    299\u001b[0m         \u001b[0;32mif\u001b[0m \u001b[0;32mnot\u001b[0m \u001b[0masync_req\u001b[0m\u001b[0;34m:\u001b[0m\u001b[0;34m\u001b[0m\u001b[0;34m\u001b[0m\u001b[0m\n\u001b[0;32m--> 300\u001b[0;31m             return self.__call_api(\n\u001b[0m\u001b[1;32m    301\u001b[0m                 \u001b[0mresource_path\u001b[0m\u001b[0;34m,\u001b[0m\u001b[0;34m\u001b[0m\u001b[0;34m\u001b[0m\u001b[0m\n\u001b[1;32m    302\u001b[0m                 \u001b[0mmethod\u001b[0m\u001b[0;34m,\u001b[0m\u001b[0;34m\u001b[0m\u001b[0;34m\u001b[0m\u001b[0m\n",
            "\u001b[0;32m/usr/local/lib/python3.11/dist-packages/pinecone/openapi_support/api_client.py\u001b[0m in \u001b[0;36m__call_api\u001b[0;34m(self, resource_path, method, path_params, query_params, header_params, body, post_params, files, response_type, auth_settings, _return_http_data_only, collection_formats, _preload_content, _request_timeout, _host, _check_type)\u001b[0m\n\u001b[1;32m    176\u001b[0m         \u001b[0;32mexcept\u001b[0m \u001b[0mPineconeApiException\u001b[0m \u001b[0;32mas\u001b[0m \u001b[0me\u001b[0m\u001b[0;34m:\u001b[0m\u001b[0;34m\u001b[0m\u001b[0;34m\u001b[0m\u001b[0m\n\u001b[1;32m    177\u001b[0m             \u001b[0me\u001b[0m\u001b[0;34m.\u001b[0m\u001b[0mbody\u001b[0m \u001b[0;34m=\u001b[0m \u001b[0me\u001b[0m\u001b[0;34m.\u001b[0m\u001b[0mbody\u001b[0m\u001b[0;34m.\u001b[0m\u001b[0mdecode\u001b[0m\u001b[0;34m(\u001b[0m\u001b[0;34m\"utf-8\"\u001b[0m\u001b[0;34m)\u001b[0m\u001b[0;34m\u001b[0m\u001b[0;34m\u001b[0m\u001b[0m\n\u001b[0;32m--> 178\u001b[0;31m             \u001b[0;32mraise\u001b[0m \u001b[0me\u001b[0m\u001b[0;34m\u001b[0m\u001b[0;34m\u001b[0m\u001b[0m\n\u001b[0m\u001b[1;32m    179\u001b[0m \u001b[0;34m\u001b[0m\u001b[0m\n\u001b[1;32m    180\u001b[0m         \u001b[0mself\u001b[0m\u001b[0;34m.\u001b[0m\u001b[0mlast_response\u001b[0m \u001b[0;34m=\u001b[0m \u001b[0mresponse_data\u001b[0m\u001b[0;34m\u001b[0m\u001b[0;34m\u001b[0m\u001b[0m\n",
            "\u001b[0;32m/usr/local/lib/python3.11/dist-packages/pinecone/openapi_support/api_client.py\u001b[0m in \u001b[0;36m__call_api\u001b[0;34m(self, resource_path, method, path_params, query_params, header_params, body, post_params, files, response_type, auth_settings, _return_http_data_only, collection_formats, _preload_content, _request_timeout, _host, _check_type)\u001b[0m\n\u001b[1;32m    164\u001b[0m         \u001b[0;32mtry\u001b[0m\u001b[0;34m:\u001b[0m\u001b[0;34m\u001b[0m\u001b[0;34m\u001b[0m\u001b[0m\n\u001b[1;32m    165\u001b[0m             \u001b[0;31m# perform request and return response\u001b[0m\u001b[0;34m\u001b[0m\u001b[0;34m\u001b[0m\u001b[0m\n\u001b[0;32m--> 166\u001b[0;31m             response_data = self.request(\n\u001b[0m\u001b[1;32m    167\u001b[0m                 \u001b[0mmethod\u001b[0m\u001b[0;34m,\u001b[0m\u001b[0;34m\u001b[0m\u001b[0;34m\u001b[0m\u001b[0m\n\u001b[1;32m    168\u001b[0m                 \u001b[0murl\u001b[0m\u001b[0;34m,\u001b[0m\u001b[0;34m\u001b[0m\u001b[0;34m\u001b[0m\u001b[0m\n",
            "\u001b[0;32m/usr/local/lib/python3.11/dist-packages/pinecone/openapi_support/api_client.py\u001b[0m in \u001b[0;36mrequest\u001b[0;34m(self, method, url, query_params, headers, post_params, body, _preload_content, _request_timeout)\u001b[0m\n\u001b[1;32m    378\u001b[0m             )\n\u001b[1;32m    379\u001b[0m         \u001b[0;32melif\u001b[0m \u001b[0mmethod\u001b[0m \u001b[0;34m==\u001b[0m \u001b[0;34m\"POST\"\u001b[0m\u001b[0;34m:\u001b[0m\u001b[0;34m\u001b[0m\u001b[0;34m\u001b[0m\u001b[0m\n\u001b[0;32m--> 380\u001b[0;31m             return self.rest_client.POST(\n\u001b[0m\u001b[1;32m    381\u001b[0m                 \u001b[0murl\u001b[0m\u001b[0;34m,\u001b[0m\u001b[0;34m\u001b[0m\u001b[0;34m\u001b[0m\u001b[0m\n\u001b[1;32m    382\u001b[0m                 \u001b[0mquery_params\u001b[0m\u001b[0;34m=\u001b[0m\u001b[0mquery_params\u001b[0m\u001b[0;34m,\u001b[0m\u001b[0;34m\u001b[0m\u001b[0;34m\u001b[0m\u001b[0m\n",
            "\u001b[0;32m/usr/local/lib/python3.11/dist-packages/pinecone/openapi_support/rest_utils.py\u001b[0m in \u001b[0;36mPOST\u001b[0;34m(self, url, headers, query_params, post_params, body, _preload_content, _request_timeout)\u001b[0m\n\u001b[1;32m    144\u001b[0m         \u001b[0m_request_timeout\u001b[0m\u001b[0;34m=\u001b[0m\u001b[0;32mNone\u001b[0m\u001b[0;34m,\u001b[0m\u001b[0;34m\u001b[0m\u001b[0;34m\u001b[0m\u001b[0m\n\u001b[1;32m    145\u001b[0m     ):\n\u001b[0;32m--> 146\u001b[0;31m         return self.request(\n\u001b[0m\u001b[1;32m    147\u001b[0m             \u001b[0;34m\"POST\"\u001b[0m\u001b[0;34m,\u001b[0m\u001b[0;34m\u001b[0m\u001b[0;34m\u001b[0m\u001b[0m\n\u001b[1;32m    148\u001b[0m             \u001b[0murl\u001b[0m\u001b[0;34m,\u001b[0m\u001b[0;34m\u001b[0m\u001b[0;34m\u001b[0m\u001b[0m\n",
            "\u001b[0;32m/usr/local/lib/python3.11/dist-packages/pinecone/openapi_support/rest_urllib3.py\u001b[0m in \u001b[0;36mrequest\u001b[0;34m(self, method, url, query_params, headers, body, post_params, _preload_content, _request_timeout)\u001b[0m\n\u001b[1;32m    258\u001b[0m             \u001b[0mlogger\u001b[0m\u001b[0;34m.\u001b[0m\u001b[0mdebug\u001b[0m\u001b[0;34m(\u001b[0m\u001b[0;34m\"response body: %s\"\u001b[0m\u001b[0;34m,\u001b[0m \u001b[0mr\u001b[0m\u001b[0;34m.\u001b[0m\u001b[0mdata\u001b[0m\u001b[0;34m)\u001b[0m\u001b[0;34m\u001b[0m\u001b[0;34m\u001b[0m\u001b[0m\n\u001b[1;32m    259\u001b[0m \u001b[0;34m\u001b[0m\u001b[0m\n\u001b[0;32m--> 260\u001b[0;31m         \u001b[0;32mreturn\u001b[0m \u001b[0mraise_exceptions_or_return\u001b[0m\u001b[0;34m(\u001b[0m\u001b[0mr\u001b[0m\u001b[0;34m)\u001b[0m\u001b[0;34m\u001b[0m\u001b[0;34m\u001b[0m\u001b[0m\n\u001b[0m",
            "\u001b[0;32m/usr/local/lib/python3.11/dist-packages/pinecone/openapi_support/rest_utils.py\u001b[0m in \u001b[0;36mraise_exceptions_or_return\u001b[0;34m(r)\u001b[0m\n\u001b[1;32m     47\u001b[0m             \u001b[0;32mraise\u001b[0m \u001b[0mServiceException\u001b[0m\u001b[0;34m(\u001b[0m\u001b[0mhttp_resp\u001b[0m\u001b[0;34m=\u001b[0m\u001b[0mr\u001b[0m\u001b[0;34m)\u001b[0m\u001b[0;34m\u001b[0m\u001b[0;34m\u001b[0m\u001b[0m\n\u001b[1;32m     48\u001b[0m \u001b[0;34m\u001b[0m\u001b[0m\n\u001b[0;32m---> 49\u001b[0;31m         \u001b[0;32mraise\u001b[0m \u001b[0mPineconeApiException\u001b[0m\u001b[0;34m(\u001b[0m\u001b[0mhttp_resp\u001b[0m\u001b[0;34m=\u001b[0m\u001b[0mr\u001b[0m\u001b[0;34m)\u001b[0m\u001b[0;34m\u001b[0m\u001b[0;34m\u001b[0m\u001b[0m\n\u001b[0m\u001b[1;32m     50\u001b[0m \u001b[0;34m\u001b[0m\u001b[0m\n\u001b[1;32m     51\u001b[0m     \u001b[0;32mreturn\u001b[0m \u001b[0mr\u001b[0m\u001b[0;34m\u001b[0m\u001b[0;34m\u001b[0m\u001b[0m\n",
            "\u001b[0;31mPineconeApiException\u001b[0m: (409)\nReason: Conflict\nHTTP response headers: HTTPHeaderDict({'content-type': 'text/plain; charset=utf-8', 'access-control-allow-origin': '*', 'vary': 'origin,access-control-request-method,access-control-request-headers', 'access-control-expose-headers': '*', 'x-pinecone-api-version': '2025-01', 'x-cloud-trace-context': '6a8cebd620f06f9d4dad2d6f17631b45', 'date': 'Mon, 31 Mar 2025 23:00:22 GMT', 'server': 'Google Frontend', 'Content-Length': '85', 'Via': '1.1 google', 'Alt-Svc': 'h3=\":443\"; ma=2592000,h3-29=\":443\"; ma=2592000'})\nHTTP response body: {\"error\":{\"code\":\"ALREADY_EXISTS\",\"message\":\"Resource  already exists\"},\"status\":409}\n"
          ]
        }
      ],
      "source": [
        "#Creating a serverless index with a dimension and a similarity metric\n",
        "#based on the embedding model we will use to create the vector embeddings\n",
        "index_name = \"document--embeddings\"\n",
        "pc.create_index(\n",
        "    name=index_name,\n",
        "    #The dimension size may change based on which embedding model we plan to use\n",
        "    dimension=1024,\n",
        "    #\"cosine\" metric is the best for similarity analysis\n",
        "    metric=\"cosine\",\n",
        "    spec=ServerlessSpec(\n",
        "        cloud=\"aws\",\n",
        "        region=\"us-east-1\"\n",
        "    )\n",
        ")"
      ]
    },
    {
      "cell_type": "code",
      "source": [
        "def send_in_batches(data, batch_size=96, delay=5):  # Adding delay (default 5 seconds)\n",
        "    # Split the data into smaller chunks (batches)\n",
        "    for i in range(0, len(data), batch_size):\n",
        "        batch = data[i:i + batch_size]\n",
        "\n",
        "        # Send the batch to Pinecone's inference service\n",
        "        embeddings = pc.inference.embed(\n",
        "            model=\"multilingual-e5-large\",\n",
        "            inputs=[d['text'] for d in batch],\n",
        "            parameters={\"input_type\": \"passage\", \"truncate\": \"END\"}\n",
        "        )\n",
        "\n",
        "        # Process the embeddings (printing the first one as an example)\n",
        "        print(embeddings[0])  # Modify this line to handle embeddings as needed\n",
        "\n",
        "        # Add a delay to avoid hitting the rate limit\n",
        "        time.sleep(delay)  # Adjust delay as needed\n",
        "\n",
        "# Assuming data_from_df is the data you want to send to Pinecone\n",
        "data = df.apply(lambda row: {\"id\": f\"vec{row['Id']}\", \"text\": row['text']}, axis=1).tolist()\n",
        "\n",
        "# Call the function to send the data in batches with a delay\n",
        "send_in_batches(data, batch_size=96, delay=5)  # Add a delay of 5 seconds between batches"
      ],
      "metadata": {
        "colab": {
          "base_uri": "https://localhost:8080/"
        },
        "id": "_BdQXsRyRPJg",
        "outputId": "261199e0-da28-4f0b-920c-ba5277b9139b"
      },
      "execution_count": null,
      "outputs": [
        {
          "output_type": "stream",
          "name": "stdout",
          "text": [
            "{'vector_type': dense, 'values': [0.0145263671875, -0.027496337890625, ..., -0.0460205078125, -0.01428985595703125]}\n"
          ]
        }
      ]
    },
    {
      "cell_type": "code",
      "execution_count": null,
      "metadata": {
        "colab": {
          "base_uri": "https://localhost:8080/"
        },
        "id": "hEAxTWXnh3g0",
        "outputId": "d0d5d58b-ff1b-4b3d-aa1f-6268ed111c58"
      },
      "outputs": [
        {
          "output_type": "stream",
          "name": "stdout",
          "text": [
            "{'vector_type': dense, 'values': [0.0145263671875, -0.027496337890625, ..., -0.0460205078125, -0.01428985595703125]}\n"
          ]
        }
      ],
      "source": [
        "#Test input data which is a dictionary with ID and text, which will the content of the document\n",
        "#data = [\n",
        "#    {\"id\": \"vec1\", \"text\": \"Apple is a popular fruit known for its sweetness and crisp texture.\"},\n",
        "#   {\"id\": \"vec2\", \"text\": \"The tech company Apple is known for its innovative products like the iPhone.\"},\n",
        "#   {\"id\": \"vec3\", \"text\": \"Many people enjoy eating apples as a healthy snack.\"},\n",
        "#    {\"id\": \"vec4\", \"text\": \"Apple Inc. has revolutionized the tech industry with its sleek designs and user-friendly interfaces.\"},\n",
        "#    {\"id\": \"vec5\", \"text\": \"An apple a day keeps the doctor away, as the saying goes.\"},\n",
        "#    {\"id\": \"vec6\", \"text\": \"Apple Computer Company was founded on April 1, 1976, by Steve Jobs, Steve Wozniak, and Ronald Wayne as a partnership.\"}\n",
        "#]\n",
        "\n",
        "\n",
        "\n",
        "\n",
        "#This function sends the text data to Pinecone's inference service to generate embeddings\n",
        "embeddings = pc.inference.embed(\n",
        "    #This model is the embedding model Pinecone uses\n",
        "    model=\"multilingual-e5-large\",\n",
        "    #Extracts just the text from each document and sends it to the model\n",
        "    inputs=[d['text'] for d in data],\n",
        "    #Additional parameters for the imbedding process\n",
        "    # \"input_type\": \"passage\" tells the model that the input is a passage of text instead of a sentence or phrase\n",
        "    # \"truncate\": \"END\" ensures that if a text passage exceeds the models input legnth then it gets truncated from the end\n",
        "    parameters={\"input_type\": \"passage\", \"truncate\": \"END\"}\n",
        ")\n",
        "\n",
        "#This will print the embedding vector for the first document (vec 1)\n",
        "#The result is a numerical vector\n",
        "print(embeddings[0])"
      ]
    },
    {
      "cell_type": "code",
      "execution_count": null,
      "metadata": {
        "colab": {
          "base_uri": "https://localhost:8080/"
        },
        "id": "AFDnWk_CjCp7",
        "outputId": "6596395f-e527-439a-b658-1291f9b28e24"
      },
      "outputs": [
        {
          "output_type": "execute_result",
          "data": {
            "text/plain": [
              "{'upserted_count': 96}"
            ]
          },
          "metadata": {},
          "execution_count": 76
        }
      ],
      "source": [
        "# Waits for the Pinecone index to be fully created and ready to accept data\n",
        "while not pc.describe_index(index_name).status['ready']:\n",
        "    time.sleep(1)\n",
        "\n",
        "#Creates an Index object for interacting with your Pinecone index (index_name)\n",
        "index = pc.Index(index_name)\n",
        "\n",
        "#This loops through data and embeddings to prepare the vectors to be inserted into the Pinecone index\n",
        "vectors = []\n",
        "for d, e in zip(data, embeddings):\n",
        "    vectors.append({\n",
        "        \"id\": d['id'],\n",
        "        \"values\": e['values'],\n",
        "        \"metadata\": {'text': d['text']}\n",
        "    })\n",
        "\n",
        "#This inserts the prepared vectors into the Pinecone index\n",
        "index.upsert(\n",
        "    vectors=vectors,\n",
        "    namespace=\"ns1\"\n",
        ")"
      ]
    },
    {
      "cell_type": "code",
      "execution_count": null,
      "metadata": {
        "colab": {
          "base_uri": "https://localhost:8080/"
        },
        "id": "hty9ZdRRnjkR",
        "outputId": "32de59c4-8499-446b-a038-3bfa4f1b8131"
      },
      "outputs": [
        {
          "output_type": "stream",
          "name": "stdout",
          "text": [
            "{'dimension': 1024,\n",
            " 'index_fullness': 0.0,\n",
            " 'metric': 'cosine',\n",
            " 'namespaces': {'ns1': {'vector_count': 6}},\n",
            " 'total_vector_count': 6,\n",
            " 'vector_type': 'dense'}\n"
          ]
        }
      ],
      "source": [
        "#Prints the current statistics of the Pinecone index, including the number of vectors, dimensions, and memory usage.\n",
        "print(index.describe_index_stats())"
      ]
    },
    {
      "cell_type": "code",
      "execution_count": null,
      "metadata": {
        "id": "8QlVEefGoh9A"
      },
      "outputs": [],
      "source": [
        "#This is the input query we want to perform a similarity search with; for this instance its an example with the test data\n",
        "query = \"Who talks about technology\"\n",
        "\n",
        "#Generates an embedding vector for the input query using the model for similarity search.\n",
        "embedding = pc.inference.embed(\n",
        "    model=\"multilingual-e5-large\",\n",
        "    inputs=[query],\n",
        "    parameters={\n",
        "        \"input_type\": \"query\"\n",
        "    }\n",
        ")"
      ]
    },
    {
      "cell_type": "code",
      "execution_count": null,
      "metadata": {
        "colab": {
          "base_uri": "https://localhost:8080/"
        },
        "id": "cQkzQ8FKo4LQ",
        "outputId": "3521381a-3d3c-4487-9190-311b24859607"
      },
      "outputs": [
        {
          "output_type": "stream",
          "name": "stdout",
          "text": [
            "{'matches': [{'id': 'vec63',\n",
            "              'metadata': {'text': 'in article <1pi9btinnqa5@gapcaltechedu> '\n",
            "                                   'keith@ccocaltechedu (keith allan '\n",
            "                                   'schneider) writes:\\n'\n",
            "                                   '|> kmr4@pocwruedu (keith m ryan) writes:\\n'\n",
            "                                   '|> \\n'\n",
            "                                   '|> >>then why do people keep asking the '\n",
            "                                   'same questions over and over?\\n'\n",
            "                                   '|> >because you rarely ever answer them\\n'\n",
            "                                   '|> \\n'\n",
            "                                   \"|> nope i've answered each question posed \"\n",
            "                                   'and most were answered multiple\\n'\n",
            "                                   '|> times\\n'\n",
            "                                   '\\n'\n",
            "                                   \"\\the:   fifty dollars if i can't answer \"\n",
            "                                   'your question\\n'\n",
            "                                   '\\n'\n",
            "                                   '\\tshe:  what is the big bang theory\\n'\n",
            "                                   '\\n'\n",
            "                                   '\\the:   the big bang theory is a recipe '\n",
            "                                   'for cookies\\n'\n",
            "                                   '\\n'\n",
            "                                   '\\tshe:  fifty dollars please\\n'\n",
            "                                   '\\n'\n",
            "                                   \"\\the:   hey i didn't say the answers would \"\n",
            "                                   'make sense\\n'\n",
            "                                   '\\n'\n",
            "                                   'jon'},\n",
            "              'score': 0.784101546,\n",
            "              'values': []},\n",
            "             {'id': 'vec22',\n",
            "              'metadata': {'text': 'in article <16ba1e927drporter@suvmsyredu> '\n",
            "                                   'drporter@suvmsyredu (brad porter) writes:\\n'\n",
            "                                   '>\\n'\n",
            "                                   '>   science is wonderful at answering most '\n",
            "                                   \"of our questions  i'm not the type\\n\"\n",
            "                                   '>to question scientific findings very '\n",
            "                                   'often but  personally i find the\\n'\n",
            "                                   '>theory of evolution to be unfathomable  '\n",
            "                                   'could humans a highly evolved\\n'\n",
            "                                   '>complex organism that thinks learns and '\n",
            "                                   'develops truly be an organism\\n'\n",
            "                                   '>that resulted from random genetic '\n",
            "                                   'mutations and natural selection?\\n'\n",
            "                                   '\\n'\n",
            "                                   '[stuff deleted]\\n'\n",
            "                                   '\\n'\n",
            "                                   'computers are an excellent exampleof '\n",
            "                                   'evolution without \"a\" creator\\n'\n",
            "                                   'we did not \"create\" computers  we did not '\n",
            "                                   'create the sand that goes\\n'\n",
            "                                   'into the silicon that goes into the '\n",
            "                                   'integrated circuits that go into\\n'\n",
            "                                   'processor board  we took these things and '\n",
            "                                   'put them together in an\\n'\n",
            "                                   'interesting way just like plants \"create\" '\n",
            "                                   'oxygen using light through \\n'\n",
            "                                   \"photosynthesis  it's a much bigger leap to \"\n",
            "                                   'talk about something that\\n'\n",
            "                                   'created \"everything\" from nothing  i find '\n",
            "                                   'it unfathomable to resort\\n'\n",
            "                                   'to believing in a creator when a much '\n",
            "                                   'simpler alternative exists: we\\n'\n",
            "                                   'simply are incapable of understanding our '\n",
            "                                   'beginnings -- if there even\\n'\n",
            "                                   \"were beginnings at all  and that's ok with \"\n",
            "                                   'me  the present keeps me\\n'\n",
            "                                   'perfectly busy\\n'\n",
            "                                   '\\n'\n",
            "                                   '-jim halat'},\n",
            "              'score': 0.773118556,\n",
            "              'values': []},\n",
            "             {'id': 'vec92',\n",
            "              'metadata': {'text': 'in article '\n",
            "                                   '<1993apr5084042822@batmanbmdtrwcom> '\n",
            "                                   'jbrown@batmanbmdtrwcom writes:\\n'\n",
            "                                   '>in article '\n",
            "                                   '<1993apr309522024632@lelandstanfordedu> '\n",
            "                                   'galahad@lelandstanfordedu (scott compton) '\n",
            "                                   'writes:\\n'\n",
            "                                   '[deletions]\\n'\n",
            "                                   '>> now back to your post  you have done a '\n",
            "                                   'fine job at using \\n'\n",
            "                                   \">> your seventh grade 'life science' \"\n",
            "                                   'course to explain why\\n'\n",
            "                                   '>> bad diseases are caused by satan and '\n",
            "                                   'good things are a \\n'\n",
            "                                   '>> result of god  but i want to let you in '\n",
            "                                   'on a little secret\\n'\n",
            "                                   '>> \"we can create an amino acid sequence '\n",
            "                                   'in lab! -- and guess\\n'\n",
            "                                   '>> what the sequence curls into a helix!  '\n",
            "                                   \"wow!  that's right\\n\"\n",
            "                                   '>> it can happen without a supernatural '\n",
            "                                   'force\" \\n'\n",
            "                                   '>\\n'\n",
            "                                   '>wow!  all it takes is a few advanced '\n",
            "                                   'science degrees and millions\\n'\n",
            "                                   '>of dollars of state of the art equipment  '\n",
            "                                   'and i thought it took\\n'\n",
            "                                   '>*intelligence* to create the building '\n",
            "                                   'blocks of life  foolish me!\\n'\n",
            "                                   '\\n'\n",
            "                                   ' people with advanced science degrees use '\n",
            "                                   'state of the art equipment\\n'\n",
            "                                   'and spend millions of dollars to simulate '\n",
            "                                   'tornadoes but tornadoes\\n'\n",
            "                                   'do not require intelligence to exist\\n'\n",
            "                                   ' not only that the equipment needed is not '\n",
            "                                   \"really 'state of the art'\\n\"\n",
            "                                   'to study the *products* yes but not to '\n",
            "                                   'generate them\\n'\n",
            "                                   '\\n'\n",
            "                                   '>if you want to be sure that i read your '\n",
            "                                   'post and to provide a\\n'\n",
            "                                   '>response send a copy to '\n",
            "                                   \"jim_brown@ozbmdtrwcom  i can't read\\n\"\n",
            "                                   '>aa every day and some posts slip by  '\n",
            "                                   'thanks\\n'\n",
            "                                   ' \\n'\n",
            "                                   ' oh i will :->\\n'\n",
            "                                   '\\n'\n",
            "                                   'sincerely\\n'\n",
            "                                   '\\n'\n",
            "                                   'ray ingles                  || the above '\n",
            "                                   'opinions are probably\\n'\n",
            "                                   '                            || not those '\n",
            "                                   'of the university of\\n'\n",
            "                                   'ingles@enginumichedu      || michigan yet'},\n",
            "              'score': 0.772805333,\n",
            "              'values': []}],\n",
            " 'namespace': 'ns1',\n",
            " 'usage': {'read_units': 6}}\n"
          ]
        }
      ],
      "source": [
        "results = index.query(\n",
        "    #Specifies where to query\n",
        "    namespace=\"ns1\",\n",
        "    #The query vector value is compared against stored values\n",
        "    vector=embedding[0].values,\n",
        "    #Retrieves the top 3 most similar vectors\n",
        "    top_k=3,\n",
        "    #Does not include the actual vector value\n",
        "    include_values=False,\n",
        "    #Includes the metadata of the vector\n",
        "    include_metadata=True\n",
        ")\n",
        "\n",
        "#Prints the results of the most similar vectors\n",
        "print(results)"
      ]
    },
    {
      "cell_type": "code",
      "execution_count": null,
      "metadata": {
        "id": "8JQjLgItpVj4"
      },
      "outputs": [],
      "source": []
    }
  ],
  "metadata": {
    "colab": {
      "provenance": []
    },
    "kernelspec": {
      "display_name": "Python 3",
      "name": "python3"
    },
    "language_info": {
      "name": "python"
    }
  },
  "nbformat": 4,
  "nbformat_minor": 0
}