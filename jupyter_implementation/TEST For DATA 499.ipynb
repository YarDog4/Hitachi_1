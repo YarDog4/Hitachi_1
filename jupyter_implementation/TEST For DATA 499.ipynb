{
 "cells": [
  {
   "cell_type": "code",
   "execution_count": 1,
   "id": "b5b1e3fe-9183-4470-b0e5-1fa8eb5efc96",
   "metadata": {},
   "outputs": [
    {
     "name": "stdout",
     "output_type": "stream",
     "text": [
      "Warning: Looks like you're using an outdated `kagglehub` version, please consider updating (latest version: 0.3.10)\n",
      "Path to dataset files: /Users/jessihudgins/.cache/kagglehub/datasets/au1206/20-newsgroup-original/versions/1\n"
     ]
    }
   ],
   "source": [
    "import kagglehub\n",
    "\n",
    "# Download latest version\n",
    "path = kagglehub.dataset_download(\"au1206/20-newsgroup-original\")\n",
    "\n",
    "print(\"Path to dataset files:\", path)"
   ]
  },
  {
   "cell_type": "code",
   "execution_count": 2,
   "id": "04fe0b51-82b4-4503-9f47-140cc2c4ce55",
   "metadata": {},
   "outputs": [
    {
     "name": "stdout",
     "output_type": "stream",
     "text": [
      "['talk.politics.mideast', '.DS_Store', 'rec.autos', 'comp.sys.mac.hardware', 'alt.atheism', 'rec.sport.baseball', 'comp.os.ms-windows.misc', 'rec.sport.hockey', 'sci.crypt', 'sci.med', 'talk.politics.misc', 'rec.motorcycles', 'comp.windows.x', 'comp.graphics', 'comp.sys.ibm.pc.hardware', 'sci.electronics', 'talk.politics.guns', 'sci.space', 'soc.religion.christian', 'misc.forsale', 'talk.religion.misc']\n",
      "Number of texts: 19997 \n",
      "\n",
      "Number of categories: 19997 \n",
      "\n",
      "Categories to Index Mapping: \n",
      " {'alt.atheism': 0, 'comp.graphics': 1, 'comp.os.ms-windows.misc': 2, 'comp.sys.ibm.pc.hardware': 3, 'comp.sys.mac.hardware': 4, 'comp.windows.x': 5, 'misc.forsale': 6, 'rec.autos': 7, 'rec.motorcycles': 8, 'rec.sport.baseball': 9, 'rec.sport.hockey': 10, 'sci.crypt': 11, 'sci.electronics': 12, 'sci.med': 13, 'sci.space': 14, 'soc.religion.christian': 15, 'talk.politics.guns': 16, 'talk.politics.mideast': 17, 'talk.politics.misc': 18, 'talk.religion.misc': 19}\n"
     ]
    },
    {
     "data": {
      "text/html": [
       "<div>\n",
       "<style scoped>\n",
       "    .dataframe tbody tr th:only-of-type {\n",
       "        vertical-align: middle;\n",
       "    }\n",
       "\n",
       "    .dataframe tbody tr th {\n",
       "        vertical-align: top;\n",
       "    }\n",
       "\n",
       "    .dataframe thead th {\n",
       "        text-align: right;\n",
       "    }\n",
       "</style>\n",
       "<table border=\"1\" class=\"dataframe\">\n",
       "  <thead>\n",
       "    <tr style=\"text-align: right;\">\n",
       "      <th></th>\n",
       "      <th>text</th>\n",
       "      <th>category</th>\n",
       "      <th>Id</th>\n",
       "    </tr>\n",
       "  </thead>\n",
       "  <tbody>\n",
       "    <tr>\n",
       "      <th>0</th>\n",
       "      <td>Archive-name: atheism/resources\\nAlt-atheism-a...</td>\n",
       "      <td>0</td>\n",
       "      <td>0</td>\n",
       "    </tr>\n",
       "    <tr>\n",
       "      <th>1</th>\n",
       "      <td>Archive-name: atheism/introduction\\nAlt-atheis...</td>\n",
       "      <td>0</td>\n",
       "      <td>1</td>\n",
       "    </tr>\n",
       "    <tr>\n",
       "      <th>2</th>\n",
       "      <td>In article &lt;65974@mimsy.umd.edu&gt;\\nmangoe@cs.um...</td>\n",
       "      <td>0</td>\n",
       "      <td>2</td>\n",
       "    </tr>\n",
       "    <tr>\n",
       "      <th>3</th>\n",
       "      <td>dmn@kepler.unh.edu (...until kings become phil...</td>\n",
       "      <td>0</td>\n",
       "      <td>3</td>\n",
       "    </tr>\n",
       "    <tr>\n",
       "      <th>4</th>\n",
       "      <td>In article &lt;N4HY.93Apr5120934@harder.ccr-p.ida...</td>\n",
       "      <td>0</td>\n",
       "      <td>4</td>\n",
       "    </tr>\n",
       "    <tr>\n",
       "      <th>...</th>\n",
       "      <td>...</td>\n",
       "      <td>...</td>\n",
       "      <td>...</td>\n",
       "    </tr>\n",
       "    <tr>\n",
       "      <th>19992</th>\n",
       "      <td>In article &lt;930426.140835.4f1.rusnews.w165w@ma...</td>\n",
       "      <td>19</td>\n",
       "      <td>19992</td>\n",
       "    </tr>\n",
       "    <tr>\n",
       "      <th>19993</th>\n",
       "      <td>In article &lt;1993Apr27.073723.18577@csis.dit.cs...</td>\n",
       "      <td>19</td>\n",
       "      <td>19993</td>\n",
       "    </tr>\n",
       "    <tr>\n",
       "      <th>19994</th>\n",
       "      <td>In article &lt;1rc1f3INN7rl@emx.cc.utexas.edu&gt; \\n...</td>\n",
       "      <td>19</td>\n",
       "      <td>19994</td>\n",
       "    </tr>\n",
       "    <tr>\n",
       "      <th>19995</th>\n",
       "      <td>In article &lt;1993Apr26.231845.13843@digi.lonest...</td>\n",
       "      <td>19</td>\n",
       "      <td>19995</td>\n",
       "    </tr>\n",
       "    <tr>\n",
       "      <th>19996</th>\n",
       "      <td>In article &lt;C64H4w.BFH@darkside.osrhe.uoknor.e...</td>\n",
       "      <td>19</td>\n",
       "      <td>19996</td>\n",
       "    </tr>\n",
       "  </tbody>\n",
       "</table>\n",
       "<p>19997 rows × 3 columns</p>\n",
       "</div>"
      ],
      "text/plain": [
       "                                                    text  category     Id\n",
       "0      Archive-name: atheism/resources\\nAlt-atheism-a...         0      0\n",
       "1      Archive-name: atheism/introduction\\nAlt-atheis...         0      1\n",
       "2      In article <65974@mimsy.umd.edu>\\nmangoe@cs.um...         0      2\n",
       "3      dmn@kepler.unh.edu (...until kings become phil...         0      3\n",
       "4      In article <N4HY.93Apr5120934@harder.ccr-p.ida...         0      4\n",
       "...                                                  ...       ...    ...\n",
       "19992  In article <930426.140835.4f1.rusnews.w165w@ma...        19  19992\n",
       "19993  In article <1993Apr27.073723.18577@csis.dit.cs...        19  19993\n",
       "19994  In article <1rc1f3INN7rl@emx.cc.utexas.edu> \\n...        19  19994\n",
       "19995  In article <1993Apr26.231845.13843@digi.lonest...        19  19995\n",
       "19996  In article <C64H4w.BFH@darkside.osrhe.uoknor.e...        19  19996\n",
       "\n",
       "[19997 rows x 3 columns]"
      ]
     },
     "execution_count": 2,
     "metadata": {},
     "output_type": "execute_result"
    }
   ],
   "source": [
    "import os\n",
    "import pandas as pd\n",
    "\n",
    "data_directory = r\"/Users/jessihudgins/.cache/kagglehub/datasets/au1206/20-newsgroup-original/versions/1/20_newsgroup/20_newsgroup\" #use the path you are given\n",
    "contents = os.listdir(data_directory)\n",
    "\n",
    "print(contents)\n",
    "\n",
    "texts = [] #list to store text from each file\n",
    "category = [] #list to store each category\n",
    "index = [] #list to store each id\n",
    "category_index = {} #mapping category names to numeric labels\n",
    "index_counter = 0  # Counter for unique row IDs\n",
    "#looping through each folder in teh directory\n",
    "for folder_name in sorted(os.listdir(data_directory)):\n",
    "    path =  os.path.join(data_directory, folder_name)\n",
    "\n",
    "    if os.path.isdir(path):\n",
    "        #storing new category ID for each directory\n",
    "        category_id = len(category_index)\n",
    "        category_index[folder_name] = category_id\n",
    "\n",
    "        #looping through each file in the folder\n",
    "        for file_name in sorted(os.listdir(path)):\n",
    "            file_path = os.path.join(path, file_name)\n",
    "\n",
    "            if os.path.isfile(file_path):\n",
    "                with open(file_path, encoding='latin-1') as file:\n",
    "                    text = file.read()\n",
    "\n",
    "                    #this skips the header if there is one\n",
    "                    header = text.find('\\n\\n')\n",
    "                    if header != 1:\n",
    "                        text = text[header:]\n",
    "                    texts.append(text.strip())\n",
    "                    category.append(category_id)\n",
    "                    index.append(index_counter)  # Assign unique ID\n",
    "                    index_counter += 1 \n",
    "\n",
    "#sanity checking\n",
    "print(f'Number of texts: {len(texts)} \\n')\n",
    "print(f'Number of categories: {len(category)} \\n')\n",
    "print(f'Categories to Index Mapping: \\n {category_index}')\n",
    "\n",
    "#creating a dataframe\n",
    "\n",
    "df = pd.DataFrame({\n",
    "    'text': texts,\n",
    "    'category': category,\n",
    "    'Id': index \n",
    "})\n",
    "df"
   ]
  },
  {
   "cell_type": "code",
   "execution_count": 3,
   "id": "de386532-7d9e-4634-a1a3-607693e65945",
   "metadata": {},
   "outputs": [],
   "source": [
    "df.to_csv('Data_for_Hitachi_1_Project_tears.csv', index=False)"
   ]
  },
  {
   "cell_type": "code",
   "execution_count": null,
   "id": "85a46586-7ee4-4476-b080-4a5beb1557b6",
   "metadata": {},
   "outputs": [],
   "source": [
    "# Convert text to lowercase\n",
    "df = df.apply(lambda x: x.str.lower() if x.dtype == \"object\" else x)\n",
    "df['text'] = df['text'].str.strip()\n",
    "df['text'] = df['text'].str.replace('[.,]', '', regex=True)\n",
    "df\n"
   ]
  },
  {
   "cell_type": "code",
   "execution_count": null,
   "id": "4e69b907-b189-4190-9f38-63f7d23ddbf0",
   "metadata": {},
   "outputs": [],
   "source": [
    "duplicates = df[df.duplicated(subset=['text',\"category\"], keep=False)]\n",
    "\n",
    "# Display the duplicate rows\n",
    "print(duplicates)\n"
   ]
  },
  {
   "cell_type": "code",
   "execution_count": null,
   "id": "3ed98019-e8ed-48ed-abb2-5543f3191a07",
   "metadata": {},
   "outputs": [],
   "source": [
    "df = df.drop_duplicates(subset=['text', \"category\"])\n",
    "df"
   ]
  },
  {
   "cell_type": "code",
   "execution_count": null,
   "id": "d988dcb7-2462-4c3d-b110-910cf0191f8c",
   "metadata": {},
   "outputs": [],
   "source": [
    "duplicates = df[df.duplicated(subset=['text', \"category\"], keep=False)]\n",
    "\n",
    "# Display the duplicate rows\n",
    "print(duplicates)"
   ]
  },
  {
   "cell_type": "code",
   "execution_count": null,
   "id": "8c4eae47-5ff9-4216-a28b-9d96f0cb511d",
   "metadata": {},
   "outputs": [],
   "source": [
    "df_dict = df.to_dict()"
   ]
  },
  {
   "cell_type": "code",
   "execution_count": null,
   "id": "e62a6984-c61d-4bef-b24d-492aec906abb",
   "metadata": {
    "scrolled": true
   },
   "outputs": [],
   "source": [
    "df_dict = df.to_dict(orient=\"records\")\n",
    "df_dict"
   ]
  },
  {
   "cell_type": "code",
   "execution_count": null,
   "id": "c57aaa1f-9fb7-4fab-931e-6f3e63dbd40d",
   "metadata": {},
   "outputs": [],
   "source": [
    "df_dict = df.set_index(\"Id\").to_dict(orient=\"index\")"
   ]
  },
  {
   "cell_type": "code",
   "execution_count": null,
   "id": "2bc51afa-45ce-45fd-8a49-a437ac7c30bc",
   "metadata": {},
   "outputs": [],
   "source": [
    "df.to_csv('Data_for_Hitachi_1_Project.csv', index=False)"
   ]
  },
  {
   "cell_type": "code",
   "execution_count": null,
   "id": "e72bceca-c733-41d3-9c5d-2c906785cdc2",
   "metadata": {},
   "outputs": [],
   "source": []
  }
 ],
 "metadata": {
  "kernelspec": {
   "display_name": "Python 3 (ipykernel)",
   "language": "python",
   "name": "python3"
  },
  "language_info": {
   "codemirror_mode": {
    "name": "ipython",
    "version": 3
   },
   "file_extension": ".py",
   "mimetype": "text/x-python",
   "name": "python",
   "nbconvert_exporter": "python",
   "pygments_lexer": "ipython3",
   "version": "3.9.12"
  }
 },
 "nbformat": 4,
 "nbformat_minor": 5
}
